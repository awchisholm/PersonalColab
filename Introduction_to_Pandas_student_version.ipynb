{
 "cells": [
  {
   "cell_type": "code",
   "execution_count": null,
   "metadata": {},
   "outputs": [],
   "source": [
    "import urllib\n",
    "result = urllib.request.urlretrieve('https://raw.githubusercontent.com/awchisholm/sampledata/master/pandas/ps3.csv', 'ps3.csv')"
   ]
  },
  {
   "cell_type": "code",
   "execution_count": null,
   "metadata": {
    "id": "t9WDkCf1QDVQ"
   },
   "outputs": [],
   "source": [
    "import pandas as pd  # This imports the pandas package and lets us call it using pd\n",
    "ps3 = pd.read_csv('ps3.csv') # This reads in the ps3.csv file into a ps3 object\n",
    "print(type(ps3))  # The function \"type\" lets us see what sort of object it is\n",
    "# It's a pandas DataFrame"
   ]
  },
  {
   "cell_type": "code",
   "execution_count": null,
   "metadata": {
    "id": "BmwNTl6YRhob"
   },
   "outputs": [],
   "source": [
    "ps3.head()  # The data frame has a method called head that prints out the first 5 rows"
   ]
  },
  {
   "cell_type": "code",
   "execution_count": null,
   "metadata": {
    "id": "T1v5xyazR1bx"
   },
   "outputs": [],
   "source": [
    "# Data frames have rows and columns - think of it as a spreadsheet \n",
    "# But because we can use Python with it, we can write code to manipulate the data."
   ]
  },
  {
   "cell_type": "code",
   "execution_count": null,
   "metadata": {
    "id": "mecREmBISO6S"
   },
   "outputs": [],
   "source": [
    "# This is a property of the ps3 data frame - its shape\n",
    "# It's how many rows and columns there are\n",
    "# In this case 1304 rows and 10 columns\n",
    "ps3.shape"
   ]
  },
  {
   "cell_type": "code",
   "execution_count": null,
   "metadata": {
    "id": "d7S3FKpgbMdm"
   },
   "outputs": [],
   "source": [
    "# Each column has a name\n",
    "# We can see this by using the columns property\n",
    "ps3.columns"
   ]
  },
  {
   "cell_type": "code",
   "execution_count": null,
   "metadata": {
    "id": "81O_BClLbvlB"
   },
   "outputs": [],
   "source": [
    "# We can select the columns we want by referring to their names\n",
    "# For example, to only show the Name column, we do this\n",
    "ps3['Name']"
   ]
  },
  {
   "cell_type": "code",
   "execution_count": null,
   "metadata": {
    "id": "U8LSF8zBfq7g"
   },
   "outputs": [],
   "source": [
    "################################################################\n",
    "# Over to you ... write the Python to select the Years column\n",
    "################################################################\n"
   ]
  },
  {
   "cell_type": "code",
   "execution_count": null,
   "metadata": {
    "id": "GhCaaBlxcGgV"
   },
   "outputs": [],
   "source": [
    "# We can choose more than one column like this\n",
    "# The [\"Name\", \"Year\"] is a Python list \n",
    "ps3[[\"Name\", \"Year\"]]"
   ]
  },
  {
   "cell_type": "code",
   "execution_count": null,
   "metadata": {
    "id": "5OUUgPY5fzU5"
   },
   "outputs": [],
   "source": [
    "################################################################\n",
    "# Write the Python to show the Name, Year and Publisher\n",
    "################################################################\n"
   ]
  },
  {
   "cell_type": "code",
   "execution_count": null,
   "metadata": {
    "id": "3nH9GmLccuSy"
   },
   "outputs": [],
   "source": [
    "# If we want to filter to only show some rows we have to do this\n",
    "# This example is selecting rows where the Publisher is equal to Ubisoft\n",
    "ps3.loc[ps3['Publisher'] == 'Ubisoft']"
   ]
  },
  {
   "cell_type": "code",
   "execution_count": null,
   "metadata": {
    "id": "MuKzNsWYfWAK"
   },
   "outputs": [],
   "source": [
    "# The ps3['Publisher'] == 'Ubisoft' part creates a series of true or false\n",
    "# True if the row matches Ubisoft False otherwise\n",
    "# Be careful with = and == if you use a single =, it will not work\n",
    "print(ps3['Publisher'] == 'Ubisoft')\n",
    "ps3.head()"
   ]
  },
  {
   "cell_type": "code",
   "execution_count": null,
   "metadata": {
    "id": "_wQxaC5ggJYC"
   },
   "outputs": [],
   "source": [
    "# The list of True and False is then used with the .loc function to locate the rows that match\n",
    "# .loc means locate and if the row has a True it is returned but if False it is not returned\n",
    "ps3.loc[ps3['Publisher'] == 'Ubisoft']"
   ]
  },
  {
   "cell_type": "code",
   "execution_count": null,
   "metadata": {
    "id": "ft6gFtCKgz01"
   },
   "outputs": [],
   "source": [
    "################################################################\n",
    "# Write the code to return rows where the Publisher is 505 Games\n",
    "################################################################\n"
   ]
  },
  {
   "cell_type": "code",
   "execution_count": null,
   "metadata": {
    "id": "PARv7CuKhCY0"
   },
   "outputs": [],
   "source": [
    "################################################################\n",
    "# Write the code to return rows where the Name is Call of Duty 3\n",
    "################################################################\n"
   ]
  },
  {
   "cell_type": "code",
   "execution_count": null,
   "metadata": {
    "id": "I16dL7bXhTbD"
   },
   "outputs": [],
   "source": [
    "# We can use alternative comparisons such as greater than or less than\n",
    "# The following code shows rows where Global Sales are greater than or equal to 10\n",
    "ps3.loc[ps3['Global_Sales'] >= 10]"
   ]
  },
  {
   "cell_type": "code",
   "execution_count": null,
   "metadata": {
    "id": "A35eWVqshyjC"
   },
   "outputs": [],
   "source": [
    "# Other comparisons you can use are as follows\n",
    "# != not equal\n",
    "# < less than\n",
    "# <= less than or equal\n",
    "# > greater than\n",
    "# greater than or equal"
   ]
  },
  {
   "cell_type": "code",
   "execution_count": null,
   "metadata": {
    "id": "Pb3QvcLRiIL9"
   },
   "outputs": [],
   "source": [
    "################################################################\n",
    "# Write the code to return rows where NA sales is greater than 5\n",
    "################################################################\n"
   ]
  },
  {
   "cell_type": "code",
   "execution_count": null,
   "metadata": {
    "id": "E1o6gcmKidaI"
   },
   "outputs": [],
   "source": [
    "# We can combine lots of comparisons at once\n",
    "# To select rows where the Publisher is Activision AND the Global Sales is greater than or equal to 10 we do this\n",
    "# Note the round brackets - these are important - they make sure the operators that need to stay together are kept together\n",
    "# The & is the notation for logical AND\n",
    "# You can also use logical OR - the symbol for this is |\n",
    "\n",
    "ps3.loc[(ps3['Publisher'] == 'Activision') & (ps3['Global_Sales'] >= 10)]"
   ]
  },
  {
   "cell_type": "code",
   "execution_count": null,
   "metadata": {
    "id": "LXcFHTmDjglG"
   },
   "outputs": [],
   "source": [
    "# The previous cell is more complex.\n",
    "# The first part - ps3['Publisher'] == 'Activision') - selects publisher equal to Activision\n",
    "# The second part - ps3['Global_Sales'] >= 10 - selects global sales greater than or equal to 10\n",
    "# These are joined together with the & which means AND\n",
    "# The two parts then become - Publisher is Activision AND the Global Sales is greater than or equal to 10\n",
    "# This is then used with loc to return the rows of interest."
   ]
  },
  {
   "cell_type": "code",
   "execution_count": null,
   "metadata": {
    "id": "7z4xH2pIktH7"
   },
   "outputs": [],
   "source": [
    "################################################################\n",
    "# Write the code to return rows where the Publisher is Take-Two Interactive and Global Sales is greater than 5\n",
    "################################################################\n"
   ]
  },
  {
   "cell_type": "code",
   "execution_count": null,
   "metadata": {
    "id": "FI6b0DOtl0n1"
   },
   "outputs": [],
   "source": [
    "# Now we can use Python to find something interesting about the data\n",
    "# \n",
    "# To find how many different years there are we can do this\n",
    "allyears = ps3['Year']   # read all the years into a variable called allyears\n",
    "print(type(allyears))    # this is a pandas series\n",
    "uniqueyears = allyears.unique()        # One of the methods of this is unique() - this finds the unique values in the series\n",
    "uniqueyears"
   ]
  },
  {
   "cell_type": "code",
   "execution_count": null,
   "metadata": {
    "id": "65Yx5uwCmkav"
   },
   "outputs": [],
   "source": [
    "# Python is full of objects so it's important to be comfortable with them\n"
   ]
  },
  {
   "cell_type": "code",
   "execution_count": null,
   "metadata": {
    "id": "mt--uxcxoNYK"
   },
   "outputs": [],
   "source": [
    "# We can find the length of the uniqueyears object by using the len() function\n",
    "# This code tells us there are 11 unique years\n",
    "len(uniqueyears)"
   ]
  },
  {
   "cell_type": "code",
   "execution_count": null,
   "metadata": {
    "id": "rIEp5Iusocn-"
   },
   "outputs": [],
   "source": [
    "################################################################\n",
    "# Write the code to find how many publishers there are\n",
    "################################################################\n"
   ]
  },
  {
   "cell_type": "code",
   "execution_count": null,
   "metadata": {
    "id": "FX6yN5PBozl2"
   },
   "outputs": [],
   "source": [
    "# We can also find minima, maxima, sums and averages\n",
    "# This code finds the maximum Global sales\n",
    "global_sales = ps3['Global_Sales']  # Select the globals sales column and put the result in a new object\n",
    "print(global_sales)                 # Printhing this shows it's just a list of numbers\n",
    "global_sales.max()                  # Find the maximum of this list"
   ]
  },
  {
   "cell_type": "code",
   "execution_count": null,
   "metadata": {
    "id": "pBzifDa1pbkr"
   },
   "outputs": [],
   "source": [
    "# We can find other things as follows\n",
    "print(global_sales.min())      # the minimum\n",
    "print(global_sales.mean())     # the average (called the mean)\n",
    "print(global_sales.median())   # the median - this is the one in the middle\n",
    "print(global_sales.sum())      # the sum of all the numbers"
   ]
  },
  {
   "cell_type": "code",
   "execution_count": null,
   "metadata": {
    "id": "8CX0ROk54ZtC"
   },
   "outputs": [],
   "source": [
    "# We can create new columns in a data frame very easily\n",
    "# This example shows creation of a column called NA_Percent\n",
    "# This is the north america percent sales compared to global sales\n",
    "ps3['NA_Percent'] = 100 * ps3['NA_Sales'] / ps3['Global_Sales']  # notice how we can do this calculation in one line - there's no need for a for loop\n",
    "ps3.head()"
   ]
  },
  {
   "cell_type": "code",
   "execution_count": null,
   "metadata": {
    "id": "M2PkK67y5XQx"
   },
   "outputs": [],
   "source": [
    "# Now we can answer some questions "
   ]
  },
  {
   "cell_type": "markdown",
   "metadata": {
    "id": "HZit8u3q4dRA"
   },
   "source": [
    "## Now we can answer some questions\n",
    "\n",
    "1. How many unique years are there?\n",
    "1. What was the biggest global seller in 2006?\n",
    "1. What was the biggest global seller in 2011?\n",
    "1. What was the percentage of EU sales out of Global sales for each row?\n",
    "1. Which game had the largest EU sales percentage with Global sales more than 1 million in 2011?\n",
    "1. Which game in which year sold the most globally ever?\n",
    "1. What is the total number of sales for Activision Shooter games for all years?\n",
    "1. What was the total number of sales for Activision and Call of Duty for all years?\n"
   ]
  },
  {
   "cell_type": "code",
   "execution_count": null,
   "metadata": {
    "id": "mO-zoOpP50zW"
   },
   "outputs": [],
   "source": [
    "# How many unique years are there?\n",
    "# We did this already\n",
    "# We select the Year column, work out the unique years and then find the length\n",
    "len(ps3['Year'].unique())"
   ]
  },
  {
   "cell_type": "code",
   "execution_count": null,
   "metadata": {
    "id": "HfMNn4805923"
   },
   "outputs": [],
   "source": [
    "# What was the biggest global seller in 2006?\n",
    "# We filter for the year 2006\n",
    "# Then find the maximum global sales\n",
    "ps3_2006 = ps3.loc[ps3['Year'] == 2006]                # this finds the year == 2006 rows\n",
    "max_in_2006 = ps3_2006['Global_Sales'].max()           # this finds the maximum global sales\n",
    "ps3_2006.loc[ps3_2006['Global_Sales'] == max_in_2006]  # this finds the row where the maximum is"
   ]
  },
  {
   "cell_type": "code",
   "execution_count": null,
   "metadata": {
    "id": "bGmyQi917NdB"
   },
   "outputs": [],
   "source": [
    "# What was the biggest global seller in 2011\n",
    "# Similar to the previous one\n",
    "ps3_2011 = ps3.loc[ps3['Year'] == 2011] \n",
    "max_in_2011 = ps3_2011['Global_Sales'].max() \n",
    "ps3_2011.loc[ps3_2011['Global_Sales'] == max_in_2011] "
   ]
  },
  {
   "cell_type": "code",
   "execution_count": null,
   "metadata": {
    "id": "deklOBmj7lu3"
   },
   "outputs": [],
   "source": [
    "# What was the percentage of EU sales out of Global sales for each row?\n",
    "# This is similar to adding the NA sales percentage\n",
    "ps3['EU_Percent'] = 100 * ps3['EU_Sales'] / ps3['Global_Sales']  # we create a new column like before\n",
    "ps3.head()"
   ]
  },
  {
   "cell_type": "code",
   "execution_count": null,
   "metadata": {
    "id": "LY0pUnV874MR"
   },
   "outputs": [],
   "source": [
    "# Which game had the largest EU sales percentage with Global sales more than 1 million in 2011\n",
    "# We already have an EU percentage column from the previous cell\n",
    "# So now we filter rows where the global sales are greater than 1 and where the year is 2011\n",
    "# Then we find the maximum for EU sales percentage\n",
    "# Then we use this maximum to find the details for the row that matches\n",
    "ps3_global_2011 = ps3.loc[(ps3['Year'] == 2011) & (ps3['Global_Sales'] > 1)]  # Filter the rows to what we want\n",
    "ps3_global_2011_max = ps3_global_2011['EU_Percent'].max()\n",
    "ps3_global_2011.loc[ps3_global_2011['EU_Percent'] == ps3_global_2011_max]"
   ]
  },
  {
   "cell_type": "code",
   "execution_count": null,
   "metadata": {
    "id": "4bt8IYm69aho"
   },
   "outputs": [],
   "source": [
    "# Which game in which year sold the most globally ever?\n",
    "# We find the maximum of the Global Sales column\n",
    "# And use this to find the row\n",
    "max_ever = ps3['Global_Sales'].max()\n",
    "ps3.loc[ps3['Global_Sales'] == max_ever]"
   ]
  },
  {
   "cell_type": "code",
   "execution_count": null,
   "metadata": {
    "id": "iPohAbrS9-vH"
   },
   "outputs": [],
   "source": [
    "# What is the total number of sales for Activision Shooter games for all years?\n",
    "# This time we filter for Activision rows - we should include Activision OR Activision Value as well as Genre equals Shooter\n",
    "# Then we sum the total sales for these\n",
    "activision = ps3.loc[((ps3['Publisher'] == 'Activision') | (ps3['Publisher'] == 'Activision Value')) & (ps3['Genre'] == 'Shooter')]\n",
    "activision['Global_Sales'].sum()"
   ]
  },
  {
   "cell_type": "code",
   "execution_count": null,
   "metadata": {
    "id": "wna9sYLU_wyG"
   },
   "outputs": [],
   "source": [
    "# What was the total number of sales for Activision and Call of Duty for all years?\n",
    "# This is more complicated because we want to bring in all the Call of Duty games - there are 11 \n",
    "# and it would be boring to have to enter them all\n",
    "# instead we can use a string method called 'contains'\n",
    "all_cod = ps3.loc[ps3['Name'].str.contains('Call of Duty')]\n",
    "all_cod['Global_Sales'].sum()"
   ]
  },
  {
   "cell_type": "markdown",
   "metadata": {
    "id": "3ZcAazc1Bc2J"
   },
   "source": [
    "## Here are some questions for you to\n",
    "\n",
    "1. What was the biggest global seller in 2015?\n",
    "1. Which game had the largest US sales percentage with Global sales more than 1 million in 2015?\n",
    "1. How many different games did Activision sell?\n",
    "1. Think of a question you want to ask of the data and see if you can answer it using pandas\n",
    "1. Find some interesting knowledge from the data and be ready to share with the group\n"
   ]
  },
  {
   "cell_type": "code",
   "execution_count": null,
   "metadata": {
    "id": "3-MNR2o7Bnbi"
   },
   "outputs": [],
   "source": [
    "################################################################\n",
    "# What was the biggest global seller in 2015?\n",
    "################################################################\n"
   ]
  },
  {
   "cell_type": "code",
   "execution_count": null,
   "metadata": {
    "id": "f8_jqt4UBpcM"
   },
   "outputs": [],
   "source": [
    "################################################################\n",
    "# Which game had the largest US sales percentage with Global sales more than 1 million in 2015?\n",
    "################################################################\n"
   ]
  },
  {
   "cell_type": "code",
   "execution_count": null,
   "metadata": {
    "id": "sWVZLW3zBsWk"
   },
   "outputs": [],
   "source": [
    "################################################################\n",
    "# How many different games did Activision sell?\n",
    "################################################################\n"
   ]
  },
  {
   "cell_type": "code",
   "execution_count": null,
   "metadata": {
    "id": "r8Vc9-QIDb0L"
   },
   "outputs": [],
   "source": [
    "################################################################\n",
    "#Think of a question you want to ask of the data and see if you can answer it using pandas\n",
    "################################################################"
   ]
  },
  {
   "cell_type": "code",
   "execution_count": null,
   "metadata": {
    "id": "8rWeVJJzDeY9"
   },
   "outputs": [],
   "source": [
    "################################################################\n",
    "#Find some interesting knowledge from the data and be ready to share with the group\n",
    "################################################################"
   ]
  }
 ],
 "metadata": {
  "colab": {
   "collapsed_sections": [],
   "name": "Introduction to Pandas  - teacher version",
   "provenance": []
  },
  "kernelspec": {
   "display_name": "Python 3 (ipykernel)",
   "language": "python",
   "name": "python3"
  },
  "language_info": {
   "codemirror_mode": {
    "name": "ipython",
    "version": 3
   },
   "file_extension": ".py",
   "mimetype": "text/x-python",
   "name": "python",
   "nbconvert_exporter": "python",
   "pygments_lexer": "ipython3",
   "version": "3.8.10"
  }
 },
 "nbformat": 4,
 "nbformat_minor": 1
}
