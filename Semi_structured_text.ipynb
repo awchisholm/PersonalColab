{
 "cells": [
  {
   "cell_type": "markdown",
   "metadata": {
    "id": "sS79_nlGjLz_"
   },
   "source": [
    "# Semi structured"
   ]
  },
  {
   "cell_type": "code",
   "execution_count": 2,
   "metadata": {
    "id": "nCjFKvTqf4xY"
   },
   "outputs": [
    {
     "name": "stdout",
     "output_type": "stream",
     "text": [
      "ï»¿Project Gutenberg's Adventures of Sherlock Holmes, by A. Conan Doyle\r\n",
      "\r\n",
      "This eBook is for the use of anyone anywhere at no cost and with\r\n",
      "almost no restrictions whatsoever.  You may copy it, give it away or\r\n",
      "re-use it under the terms of the Project Gutenberg License included\r\n",
      "with this eBook or online at www.gutenberg.org/license\r\n",
      "\r\n",
      "\r\n",
      "Title: Adventures of Sherlock Holmes\r\n",
      "       Illustrated\r\n",
      "\r\n",
      "Author: A. Conan Doyle\r\n",
      "\r\n",
      "Release Date: February 20, 2015 [EBook #48320]\r\n",
      "\r\n",
      "Language: English\r\n",
      "\r\n",
      "Character set encoding: UTF-8\r\n",
      "\r\n",
      "*** START OF THIS PROJECT GUTENBERG EBOOK ADVENTURES OF SHERLOCK HOLME\n"
     ]
    }
   ],
   "source": [
    "# This downloads a book\n",
    "import requests\n",
    "example_txt = 'http://gutenberg.org/files/48320/48320-0.txt'\n",
    "book = requests.get(example_txt)\n",
    "with open('book.txt', 'wb') as f:\n",
    "    f.write(book.content)\n",
    "\n",
    "booktext = book.text\n",
    "print(booktext[0:600])"
   ]
  },
  {
   "cell_type": "markdown",
   "metadata": {
    "id": "h-4ym1R6lLgp"
   },
   "source": [
    "## QUESTION: Download the file book.txt. Can you read it? Do you think a computer can read it? Do you think a computer understands it?"
   ]
  },
  {
   "cell_type": "markdown",
   "metadata": {
    "id": "ZfCOcqeQjRll"
   },
   "source": [
    "## ACTIVITY: Count the number of words in this book."
   ]
  },
  {
   "cell_type": "code",
   "execution_count": 3,
   "metadata": {
    "id": "Z282s5yYjJqI"
   },
   "outputs": [
    {
     "name": "stdout",
     "output_type": "stream",
     "text": [
      "101346\n"
     ]
    }
   ],
   "source": [
    "# This code splits the text into words by assuming a space shows where a word is\n",
    "words = booktext.split(sep=' ')\n",
    "number_of_words = len(words)\n",
    "print(number_of_words)"
   ]
  },
  {
   "cell_type": "code",
   "execution_count": 4,
   "metadata": {
    "id": "OT5MLPJJrU6A"
   },
   "outputs": [
    {
     "data": {
      "text/plain": [
       "['ï»¿Project',\n",
       " \"Gutenberg's\",\n",
       " 'Adventures',\n",
       " 'of',\n",
       " 'Sherlock',\n",
       " 'Holmes,',\n",
       " 'by',\n",
       " 'A.',\n",
       " 'Conan',\n",
       " 'Doyle\\r\\n\\r\\nThis',\n",
       " 'eBook',\n",
       " 'is',\n",
       " 'for',\n",
       " 'the',\n",
       " 'use',\n",
       " 'of',\n",
       " 'anyone',\n",
       " 'anywhere',\n",
       " 'at',\n",
       " 'no']"
      ]
     },
     "execution_count": 4,
     "metadata": {},
     "output_type": "execute_result"
    }
   ],
   "source": [
    "# But splitting on spaces is a bit rubbish\n",
    "words[0:20]"
   ]
  },
  {
   "cell_type": "code",
   "execution_count": 5,
   "metadata": {
    "id": "37H3J15bnFhU"
   },
   "outputs": [
    {
     "name": "stdout",
     "output_type": "stream",
     "text": [
      "109463\n"
     ]
    },
    {
     "data": {
      "text/plain": [
       "['ï»¿Project',\n",
       " \"Gutenberg's\",\n",
       " 'Adventures',\n",
       " 'of',\n",
       " 'Sherlock',\n",
       " 'Holmes,',\n",
       " 'by',\n",
       " 'A.',\n",
       " 'Conan',\n",
       " 'Doyle',\n",
       " 'This',\n",
       " 'eBook',\n",
       " 'is',\n",
       " 'for',\n",
       " 'the',\n",
       " 'use',\n",
       " 'of',\n",
       " 'anyone',\n",
       " 'anywhere',\n",
       " 'at']"
      ]
     },
     "execution_count": 5,
     "metadata": {},
     "output_type": "execute_result"
    }
   ],
   "source": [
    "# Splitting using space is a bit rubbish\n",
    "# In fact splitting by default treats spaces, tabs and new lines as separators\n",
    "#  (in computer jargon - this is white space)\n",
    "better_words = booktext.split()\n",
    "# So now the word list looks a bit better.\n",
    "better_number_of_words = len(better_words)\n",
    "print(better_number_of_words)\n",
    "better_words[0:20]"
   ]
  },
  {
   "cell_type": "code",
   "execution_count": 6,
   "metadata": {
    "id": "o5YwN3m7tyv-"
   },
   "outputs": [
    {
     "data": {
      "text/plain": [
       "15841"
      ]
     },
     "execution_count": 6,
     "metadata": {},
     "output_type": "execute_result"
    }
   ],
   "source": [
    "# This code works out how many unique words there are\n",
    "wordfreq = []\n",
    "for word in better_words:\n",
    "  if word not in wordfreq:\n",
    "    wordfreq.append(word)\n",
    "\n",
    "len(wordfreq)"
   ]
  },
  {
   "cell_type": "markdown",
   "metadata": {
    "id": "tqCaWfS8ywHU"
   },
   "source": [
    "## QUESTION: How would you count sentences?"
   ]
  },
  {
   "cell_type": "markdown",
   "metadata": {
    "id": "2UWh1y2_MPUb"
   },
   "source": [
    "## QUESTION: Comparing this with reading a JSON or CSV file, is it more or less complicated to write code to process unstructured text?"
   ]
  },
  {
   "cell_type": "markdown",
   "metadata": {
    "id": "SK61qDzo3Csl"
   },
   "source": [
    "## ACTIVITY: Read an unstructured log file"
   ]
  },
  {
   "cell_type": "code",
   "execution_count": 7,
   "metadata": {
    "id": "06LBml4B2HLG"
   },
   "outputs": [
    {
     "name": "stdout",
     "output_type": "stream",
     "text": [
      "Jun 14 15:16:01 combo sshd(pam_unix)[19939]: authentication failure; logname= uid=0 euid=0 tty=NODEVssh ruser= rhost=218.188.2.4 \n",
      "Jun 14 15:16:02 combo sshd(pam_unix)[19937]: check pass; user unknown\n",
      "Jun 14 15:16:02 combo sshd(pam_unix)[19937]: authentication failure; logname= uid=0 euid=0 tty=NODEVssh ruser= rhost=218.188.2.4 \n",
      "Jun 15 02:04:59 combo sshd(pam_unix)[20882]: authentication failure; logname= uid=0 euid=0 tty=NODEVssh ruser= rhost=220-135-151-1.hinet-ip.hinet.net  user=root\n",
      "Jun 15 02:04:59 combo sshd(pam_unix)[20884]: authentication failure; logname= uid=0 euid=0 tty=NODEVssh ruser= rhost=220-135-151-1.hinet-ip.hinet.net  user=root\n",
      "Jun 15 02:04:59 combo sshd(pam_unix)[20883]: authentication failure; logname= uid=0 euid=0 tty=NODEVssh ruser= rhost=220-135-151-1.hinet-ip.hinet.net  user=root\n",
      "Jun 15 02:04:59 combo sshd(pam_unix)[20885]: authentication failure; logname= uid=0 euid=0 tty=NODEVssh ruser= rhost=220-135-151-1.hinet-ip.hinet.net  user=root\n",
      "Jun 15 02:04:59 combo sshd(pam_unix)[20886]: authentication failure; logname= uid=0 euid=0 tty=NODEVssh ruser= rhost=220-135-151-1.hinet-ip.hinet.net  user=root\n",
      "Jun 15 02:04:59 combo sshd(pam_unix)[20892]: authentication failure; logname= uid=0 euid=0 tty=NODEVssh ruser= rhost=220-135-151-1.hinet-ip.hinet.net  user=root\n",
      "Jun 15 02:04:59 combo sshd(pam_unix)[20893]: authentication failure; logname= uid=0 euid=0 tty=NODEVssh ruser= rhost=220-135-151-1.hinet-ip.hinet.net  user=root\n",
      "Jun 15 02:04:59 combo sshd(pam_unix)[20896]: authentication failure; logname= uid=0 euid=0 tty=NODEVssh ruser= rhost=220-135-151-1.hinet-ip.hinet.net  user=root\n",
      "Jun 15 02:04:59 combo sshd(pam_unix)[20897]: authentication failure; logname= uid=0 euid=0 tty=NODEVssh ruser= rhost=220-135-151-1.hinet-ip.hinet.net  user=root\n",
      "Jun 15 02:04:59 combo sshd(pam_unix)[20898]: authentication failure; logname= uid=0 euid=0 tty=NODEVssh ruser= rhost=220-135-151-1.hinet-ip.hinet.net  user=root\n",
      "Jun 15 04:06:18 combo su(pam_unix)[21416]: session opened fo\n"
     ]
    }
   ],
   "source": [
    "url = 'https://raw.githubusercontent.com/logpai/loghub/master/Linux/Linux_2k.log'\n",
    "import requests\n",
    "log = requests.get(url)\n",
    "print(log.text[0:2000])"
   ]
  },
  {
   "cell_type": "markdown",
   "metadata": {
    "id": "5UGLDbB43SRa"
   },
   "source": [
    "## QUESTION: How would you process this to get information from it?"
   ]
  },
  {
   "cell_type": "markdown",
   "metadata": {
    "id": "DVZGm-IitVLv"
   },
   "source": [
    "## QUESTION: A computer can read the file but how much work is needed to write the code to read the data so the computer can understand it?"
   ]
  }
 ],
 "metadata": {
  "colab": {
   "collapsed_sections": [],
   "name": "Semi structured text",
   "provenance": [],
   "toc_visible": true
  },
  "kernelspec": {
   "display_name": "Python 3 (ipykernel)",
   "language": "python",
   "name": "python3"
  },
  "language_info": {
   "codemirror_mode": {
    "name": "ipython",
    "version": 3
   },
   "file_extension": ".py",
   "mimetype": "text/x-python",
   "name": "python",
   "nbconvert_exporter": "python",
   "pygments_lexer": "ipython3",
   "version": "3.8.5"
  }
 },
 "nbformat": 4,
 "nbformat_minor": 1
}
