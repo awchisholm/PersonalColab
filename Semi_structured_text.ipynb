{
 "cells": [
  {
   "cell_type": "markdown",
   "metadata": {
    "id": "sS79_nlGjLz_"
   },
   "source": [
    "# Semi structured"
   ]
  },
  {
   "cell_type": "code",
   "execution_count": null,
   "metadata": {
    "id": "nCjFKvTqf4xY"
   },
   "outputs": [],
   "source": [
    "# This downloads a book\n",
    "import requests\n",
    "example_txt = 'http://gutenberg.org/files/48320/48320-0.txt'\n",
    "book = requests.get(example_txt)\n",
    "with open('book.txt', 'wb') as f:\n",
    "    f.write(book.content)\n",
    "\n",
    "booktext = book.text\n",
    "print(booktext[0:600])"
   ]
  },
  {
   "cell_type": "markdown",
   "metadata": {
    "id": "h-4ym1R6lLgp"
   },
   "source": [
    "## QUESTION: Download the file book.txt. Can you read it? Do you think a computer can read it? Do you think a computer understands it?"
   ]
  },
  {
   "cell_type": "markdown",
   "metadata": {
    "id": "ZfCOcqeQjRll"
   },
   "source": [
    "## ACTIVITY: Count the number of words in this book."
   ]
  },
  {
   "cell_type": "code",
   "execution_count": null,
   "metadata": {
    "id": "Z282s5yYjJqI"
   },
   "outputs": [],
   "source": [
    "# This code splits the text into words by assuming a space shows where a word is\n",
    "words = booktext.split(sep=' ')\n",
    "number_of_words = len(words)\n",
    "print(number_of_words)"
   ]
  },
  {
   "cell_type": "code",
   "execution_count": null,
   "metadata": {
    "id": "OT5MLPJJrU6A"
   },
   "outputs": [],
   "source": [
    "# But splitting on spaces is a bit rubbish\n",
    "words[0:20]"
   ]
  },
  {
   "cell_type": "code",
   "execution_count": null,
   "metadata": {
    "id": "37H3J15bnFhU"
   },
   "outputs": [],
   "source": [
    "# Splitting using space is a bit rubbish\n",
    "# In fact splitting by default treats spaces, tabs and new lines as separators\n",
    "#  (in computer jargon - this is white space)\n",
    "better_words = booktext.split()\n",
    "# So now the word list looks a bit better.\n",
    "better_number_of_words = len(better_words)\n",
    "print(better_number_of_words)\n",
    "better_words[0:20]"
   ]
  },
  {
   "cell_type": "code",
   "execution_count": null,
   "metadata": {
    "id": "o5YwN3m7tyv-"
   },
   "outputs": [],
   "source": [
    "# This code works out how many unique words there are\n",
    "wordfreq = []\n",
    "for word in better_words:\n",
    "  if word not in wordfreq:\n",
    "    wordfreq.append(word)\n",
    "\n",
    "len(wordfreq)"
   ]
  },
  {
   "cell_type": "markdown",
   "metadata": {
    "id": "tqCaWfS8ywHU"
   },
   "source": [
    "## QUESTION: How would you count sentences?"
   ]
  },
  {
   "cell_type": "markdown",
   "metadata": {
    "id": "2UWh1y2_MPUb"
   },
   "source": [
    "## QUESTION: Comparing this with reading a JSON or CSV file, is it more or less complicated to write code to process unstructured text?"
   ]
  },
  {
   "cell_type": "markdown",
   "metadata": {
    "id": "SK61qDzo3Csl"
   },
   "source": [
    "## ACTIVITY: Read an unstructured log file"
   ]
  },
  {
   "cell_type": "code",
   "execution_count": null,
   "metadata": {
    "id": "06LBml4B2HLG"
   },
   "outputs": [],
   "source": [
    "url = 'https://raw.githubusercontent.com/logpai/loghub/master/Linux/Linux_2k.log'\n",
    "import requests\n",
    "log = requests.get(url)\n",
    "print(log.text[0:2000])"
   ]
  },
  {
   "cell_type": "markdown",
   "metadata": {
    "id": "5UGLDbB43SRa"
   },
   "source": [
    "## QUESTION: How would you process this to get information from it?"
   ]
  },
  {
   "cell_type": "markdown",
   "metadata": {
    "id": "DVZGm-IitVLv"
   },
   "source": [
    "## QUESTION: A computer can read the file but how much work is needed to write the code to read the data so the computer can understand it?"
   ]
  }
 ],
 "metadata": {
  "colab": {
   "collapsed_sections": [],
   "name": "Semi structured text",
   "provenance": [],
   "toc_visible": true
  },
  "kernelspec": {
   "display_name": "Python 3 (ipykernel)",
   "language": "python",
   "name": "python3"
  },
  "language_info": {
   "codemirror_mode": {
    "name": "ipython",
    "version": 3
   },
   "file_extension": ".py",
   "mimetype": "text/x-python",
   "name": "python",
   "nbconvert_exporter": "python",
   "pygments_lexer": "ipython3",
   "version": "3.8.10"
  }
 },
 "nbformat": 4,
 "nbformat_minor": 1
}
