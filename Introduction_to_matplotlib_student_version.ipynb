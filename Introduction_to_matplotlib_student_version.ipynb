{
 "cells": [
  {
   "cell_type": "code",
   "execution_count": 1,
   "metadata": {
    "id": "_ImxwjlwK7AZ"
   },
   "outputs": [],
   "source": [
    "import urllib.request\n",
    "result = urllib.request.urlretrieve('https://raw.githubusercontent.com/awchisholm/sampledata/master/pandas/ps3.csv', 'ps3.csv')"
   ]
  },
  {
   "cell_type": "code",
   "execution_count": null,
   "metadata": {
    "id": "SeQU1_MbK-1v"
   },
   "outputs": [],
   "source": [
    "import pandas as pd  # This imports the pandas package and lets us call it using pd\n",
    "import matplotlib.pyplot as plt # this imports the matplotlib package and lets us call it using plt\n",
    "ps3 = pd.read_csv('ps3.csv') # This reads in the ps3.csv file into the ps3 object"
   ]
  },
  {
   "cell_type": "code",
   "execution_count": null,
   "metadata": {
    "id": "EnN2ycXKLcyS"
   },
   "outputs": [],
   "source": [
    "# matplotlib has a massive amount of functions\n",
    "df = pd.DataFrame({'x':[1,2,3], 'y':[3,2,4]})  # make a noddy dataframe\n",
    "print(df)  \n",
    "plt.scatter(df['x'], df['y'])   # this is a scatter plot\n",
    "plt.show()"
   ]
  },
  {
   "cell_type": "code",
   "execution_count": null,
   "metadata": {
    "id": "dKXJrYC5MM7i"
   },
   "outputs": [],
   "source": [
    "plt.plot(df['x'], df['y']) # this plots a line\n",
    "plt.show()"
   ]
  },
  {
   "cell_type": "code",
   "execution_count": null,
   "metadata": {
    "id": "PnMzsbHzMyxF"
   },
   "outputs": [],
   "source": [
    "plt.bar(df['x'], df['y']) # this plots a bar chart\n",
    "plt.show()"
   ]
  },
  {
   "cell_type": "code",
   "execution_count": null,
   "metadata": {
    "id": "_olekicpNUbv"
   },
   "outputs": [],
   "source": [
    "# This adds a title and labels the axes\n",
    "plt.bar(df['x'], df['y']) # this plots a bar chart\n",
    "plt.title('A bar chart')\n",
    "plt.xlabel(\"This is the X axis\")\n",
    "plt.ylabel(\"This is the Y axis\")\n",
    "plt.show()"
   ]
  },
  {
   "cell_type": "code",
   "execution_count": null,
   "metadata": {},
   "outputs": [],
   "source": [
    "# This makes the image bigger and changes the colour\n",
    "plt.figure(figsize=(20,10))\n",
    "plt.bar(df['x'], df['y'], color='red') \n",
    "plt.title('A bar chart')\n",
    "plt.xlabel(\"This is the X axis\")\n",
    "plt.ylabel(\"This is the Y axis\")\n",
    "plt.show()"
   ]
  },
  {
   "cell_type": "code",
   "execution_count": null,
   "metadata": {},
   "outputs": [],
   "source": [
    "# This shows bars, points and lines combined\n",
    "plt.figure(figsize=(20,10))\n",
    "plt.bar(df['x'], df['y'], color='red')\n",
    "plt.plot(df['x'], df['y'], color='blue', linewidth=10)\n",
    "plt.scatter(df['x'], df['y'], color='green', marker='o', linewidths=20) \n",
    "plt.title('A bar chart')\n",
    "plt.xlabel(\"This is the X axis\")\n",
    "plt.ylabel(\"This is the Y axis\")\n",
    "plt.show()"
   ]
  },
  {
   "cell_type": "code",
   "execution_count": null,
   "metadata": {},
   "outputs": [],
   "source": [
    "# This is a pie chart\n",
    "print(df)\n",
    "plt.pie(df['x'], labels=df['x'])\n",
    "plt.show()"
   ]
  },
  {
   "cell_type": "code",
   "execution_count": null,
   "metadata": {
    "id": "msY_G4CxKO_6"
   },
   "outputs": [],
   "source": [
    "# Here's something from the ps3 data\n",
    "plt.scatter(ps3['Year'], ps3['Global_Sales'])\n",
    "plt.title('All global sales for all years')\n",
    "plt.xlabel('Year')\n",
    "plt.ylabel('Global sales (millions)')\n",
    "plt.show()"
   ]
  },
  {
   "cell_type": "code",
   "execution_count": null,
   "metadata": {},
   "outputs": [],
   "source": [
    "# This is showing one small publisher's sales\n",
    "publisher = ps3.loc[ps3['Publisher'] == 'Crave Entertainment']\n",
    "print(publisher)\n",
    "plt.bar(publisher['Year'], publisher['Global_Sales'])\n",
    "plt.show()"
   ]
  },
  {
   "cell_type": "code",
   "execution_count": null,
   "metadata": {
    "id": "fe-zLkNCOqWD"
   },
   "outputs": [],
   "source": [
    "# Can you make a plot showing Call of Duty sales for all the years?\n",
    "cod = ps3.loc[ps3['Name'].str.contains('Call of Duty')]  # this is how to look for a Name with Call of Duty somewhere in it\n",
    "plt.scatter(cod['Year'], cod['Global_Sales'])\n",
    "plt.title('CoD sales - all time')\n",
    "plt.xlabel('Year')\n",
    "plt.ylabel('Global Sales (millions of units)')\n",
    "plt.show()"
   ]
  },
  {
   "cell_type": "code",
   "execution_count": null,
   "metadata": {
    "id": "9_NHS9jeKTW_"
   },
   "outputs": [],
   "source": [
    "# Here's a more complicated ps3 data example\n",
    "# This uses groupby which we haven't covered yet \n",
    "# so if you get here you will need to read up about group by\n",
    "# or ask me\n",
    "# What this is doing is adding up all the global sales for each year\n",
    "# This then gets put into a new data frame\n",
    "# And from this we can plot a graph\n",
    "global_by_year = ps3.groupby(['Year'])['Global_Sales'].sum()\n",
    "years = ps3['Year'].unique()\n",
    "df = {'Year': years, 'Global_Sales': global_by_year}\n",
    "years = pd.DataFrame(df)\n",
    "print(years)\n",
    "plt.scatter(years['Year'], years['Global_Sales'])\n",
    "plt.show()\n"
   ]
  }
 ],
 "metadata": {
  "colab": {
   "collapsed_sections": [],
   "name": "Introduction to matplotlib - teacher version",
   "provenance": []
  },
  "kernelspec": {
   "display_name": "Python 3 (ipykernel)",
   "language": "python",
   "name": "python3"
  },
  "language_info": {
   "codemirror_mode": {
    "name": "ipython",
    "version": 3
   },
   "file_extension": ".py",
   "mimetype": "text/x-python",
   "name": "python",
   "nbconvert_exporter": "python",
   "pygments_lexer": "ipython3",
   "version": "3.8.10"
  }
 },
 "nbformat": 4,
 "nbformat_minor": 1
}
